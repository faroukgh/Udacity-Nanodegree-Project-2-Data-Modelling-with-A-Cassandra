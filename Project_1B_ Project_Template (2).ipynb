{
 "cells": [
  {
   "cell_type": "markdown",
   "metadata": {
    "editable": true,
    "toggleable": false,
    "ulab": {
     "buttons": {
      "ulab-button-toggle-c6d5a3bf": {
       "style": "primary"
      }
     }
    }
   },
   "source": [
    "# Data Modeling with Cassandra"
   ]
  },
  {
   "cell_type": "markdown",
   "metadata": {
    "editable": true
   },
   "source": [
    "## ETL Pipeline for Pre-Processing the Files"
   ]
  },
  {
   "cell_type": "markdown",
   "metadata": {
    "editable": true
   },
   "source": [
    "#### Import Python packages "
   ]
  },
  {
   "cell_type": "code",
   "execution_count": 47,
   "metadata": {
    "editable": true
   },
   "outputs": [],
   "source": [
    "# Import Python packages \n",
    "import pandas as pd\n",
    "import cassandra\n",
    "import re\n",
    "import os\n",
    "import glob\n",
    "import numpy as np\n",
    "import json\n",
    "import csv"
   ]
  },
  {
   "cell_type": "markdown",
   "metadata": {
    "editable": true
   },
   "source": [
    "#### Creating list of filepaths to process original event csv data files"
   ]
  },
  {
   "cell_type": "code",
   "execution_count": 48,
   "metadata": {
    "editable": true
   },
   "outputs": [
    {
     "name": "stdout",
     "output_type": "stream",
     "text": [
      "/home/workspace\n"
     ]
    }
   ],
   "source": [
    "# Current working directory\n",
    "print(os.getcwd())\n",
    "\n",
    "# Current folder and subfolder event data\n",
    "filepath = os.getcwd() + '/event_data'\n",
    "\n",
    "# A for loop to create a list of files and collect each filepath\n",
    "for root, dirs, files in os.walk(filepath):\n",
    "    \n",
    "# Joining the file path and roots with the subdirectories using glob\n",
    "    file_path_list = glob.glob(os.path.join(root,'*'))\n",
    "    #print(file_path_list)"
   ]
  },
  {
   "cell_type": "markdown",
   "metadata": {
    "editable": true
   },
   "source": [
    "**Processing files to create the data file csv that will be used for Apache Casssandra tables**"
   ]
  },
  {
   "cell_type": "code",
   "execution_count": 49,
   "metadata": {
    "editable": true
   },
   "outputs": [],
   "source": [
    "# Initiating an empty list of rows that will be generated from each file\n",
    "full_data_rows_list = [] \n",
    "    \n",
    "# For every filepath in the file path list \n",
    "for f in file_path_list:\n",
    "\n",
    "# Reading csv file \n",
    "    with open(f, 'r', encoding = 'utf8', newline='') as csvfile: \n",
    "        # creating a csv reader object \n",
    "        csvreader = csv.reader(csvfile) \n",
    "        next(csvreader)\n",
    "        \n",
    " # Extracting each data row one by one and append it        \n",
    "        for line in csvreader:\n",
    "            #print(line)\n",
    "            full_data_rows_list.append(line) \n",
    "            \n",
    "\n",
    "# Apache Cassandra tables\n",
    "csv.register_dialect('myDialect', quoting=csv.QUOTE_ALL, skipinitialspace=True)\n",
    "\n",
    "with open('event_datafile_new.csv', 'w', encoding = 'utf8', newline='') as f:\n",
    "    writer = csv.writer(f, dialect='myDialect')\n",
    "    writer.writerow(['artist','firstName','gender','itemInSession','lastName','length',\\\n",
    "                'level','location','sessionId','song','userId'])\n",
    "    for row in full_data_rows_list:\n",
    "        if (row[0] == ''):\n",
    "            continue\n",
    "        writer.writerow((row[0], row[2], row[3], row[4], row[5], row[6], row[7], row[8], row[12], row[13], row[16]))\n"
   ]
  },
  {
   "cell_type": "code",
   "execution_count": 50,
   "metadata": {
    "editable": true
   },
   "outputs": [
    {
     "name": "stdout",
     "output_type": "stream",
     "text": [
      "6821\n"
     ]
    }
   ],
   "source": [
    "# Number of rows in your csv file\n",
    "with open('event_datafile_new.csv', 'r', encoding = 'utf8') as f:\n",
    "    print(sum(1 for line in f))"
   ]
  },
  {
   "cell_type": "markdown",
   "metadata": {
    "editable": true
   },
   "source": [
    "#### Creating a Cluster"
   ]
  },
  {
   "cell_type": "code",
   "execution_count": 51,
   "metadata": {
    "editable": true
   },
   "outputs": [],
   "source": [
    "# Connection to a Cassandra instance your local machine \n",
    "# (127.0.0.1)\n",
    "\n",
    "from cassandra.cluster import Cluster\n",
    "cluster = Cluster()\n",
    "\n",
    "# Establish connection \n",
    "session = cluster.connect()"
   ]
  },
  {
   "cell_type": "markdown",
   "metadata": {
    "editable": true
   },
   "source": [
    "#### Create Keyspace"
   ]
  },
  {
   "cell_type": "code",
   "execution_count": 52,
   "metadata": {
    "editable": true
   },
   "outputs": [],
   "source": [
    "# Create a Keyspace \n",
    "try:\n",
    "\n",
    "    session.execute(\"\"\" \n",
    "    CREATE KEYSPACE IF NOT EXISTS farouk\n",
    "    WITH REPLICATION = \n",
    "    { 'class' : 'SimpleStrategy', 'replication_factor' : 1 }\"\"\"\n",
    "    )\n",
    "except Exception as e:\n",
    "        print(e)"
   ]
  },
  {
   "cell_type": "markdown",
   "metadata": {
    "editable": true
   },
   "source": [
    "#### Set Keyspace"
   ]
  },
  {
   "cell_type": "code",
   "execution_count": 53,
   "metadata": {
    "editable": true
   },
   "outputs": [],
   "source": [
    "# Set KEYSPACE \n",
    "try:\n",
    "\n",
    "    session.set_keyspace('farouk') \n",
    "except Exception as e:\n",
    "    print(e)\n"
   ]
  },
  {
   "cell_type": "markdown",
   "metadata": {
    "editable": true
   },
   "source": [
    "## Creating , Inserting data and running queries on three Distinct tables"
   ]
  },
  {
   "cell_type": "markdown",
   "metadata": {
    "editable": true
   },
   "source": [
    "**1a. Create Music_app table**"
   ]
  },
  {
   "cell_type": "code",
   "execution_count": 54,
   "metadata": {
    "editable": true
   },
   "outputs": [],
   "source": [
    "#CREATING TABLE FOR MUSIC_APP\n",
    "query = \"CREATE TABLE IF NOT EXISTS Music_app\"\n",
    "query = query + \"\"\"(\n",
    "    sessionId int,\n",
    "    itemInSession int,\n",
    "    artist text, \n",
    "    firstName text, \n",
    "    lastName text, \n",
    "    length float,\n",
    "    song text, \n",
    "    PRIMARY KEY (sessionId, itemInSession))\"\"\"\n",
    "try:\n",
    "    session.execute(query) \n",
    "except Exception as e:\n",
    "    print(e)                "
   ]
  },
  {
   "cell_type": "markdown",
   "metadata": {
    "editable": true
   },
   "source": [
    "**1b. Read and Insert data from csv file to the Music_app table**"
   ]
  },
  {
   "cell_type": "code",
   "execution_count": 55,
   "metadata": {
    "editable": true
   },
   "outputs": [],
   "source": [
    "# CSV file\n",
    "file = 'event_datafile_new.csv'\n",
    "\n",
    "with open(file, encoding = 'utf8') as f:\n",
    "    csvreader = csv.reader(f)\n",
    "    next(csvreader) # skip header\n",
    "    for line in csvreader:\n",
    "#INSERT statements \n",
    "        query = \"INSERT INTO Music_app (sessionId,itemInSession,artist, firstName,lastName,length,song)\"\n",
    "        query = query + \"VALUES (%s, %s, %s, %s, %s, %s, %s)\"\n",
    "        session.execute(query,(int(line[8]),int(line[3]),line[0],line[1],line[4],float(line[5]),line[9]))"
   ]
  },
  {
   "cell_type": "markdown",
   "metadata": {
    "editable": true
   },
   "source": [
    "**1c. Select and Display artist, song and song's length with a given session Id**"
   ]
  },
  {
   "cell_type": "code",
   "execution_count": 56,
   "metadata": {
    "editable": true,
    "scrolled": true
   },
   "outputs": [
    {
     "name": "stdout",
     "output_type": "stream",
     "text": [
      "ARTIST: Pixies SONG: Build High LENGTH: 89.36444091796875\n",
      "ARTIST: The Roots / Jack Davey SONG: Atonement LENGTH: 155.95057678222656\n",
      "ARTIST: Mike And The Mechanics SONG: A Beggar On A Beach Of Gold LENGTH: 275.1211853027344\n",
      "ARTIST: Faithless SONG: Music Matters (Mark Knight Dub) LENGTH: 495.30731201171875\n"
     ]
    }
   ],
   "source": [
    "#SELECT statement \n",
    "query =\"SELECT artist, song, length  FROM music_app WHERE sessionid = 338\"\n",
    "try:\n",
    "        rows = session.execute(query)\n",
    "except Exception as e:\n",
    "        print(e)\n",
    "for row in rows:\n",
    "        print (\"ARTIST:\",row.artist, \"SONG:\",row.song, \"LENGTH:\",row.length)"
   ]
  },
  {
   "cell_type": "markdown",
   "metadata": {
    "editable": true
   },
   "source": [
    "**2a. Create  Artist_song table**"
   ]
  },
  {
   "cell_type": "code",
   "execution_count": 63,
   "metadata": {
    "editable": true
   },
   "outputs": [],
   "source": [
    "#CREATING TABLE FOR ARTIST_SONG\n",
    "query = \"CREATE TABLE IF NOT EXISTS Artist_song\"\n",
    "query = query + \"\"\"(\n",
    "    userId int,\n",
    "    sessionId int,\n",
    "    itemInSession int,\n",
    "    artist text, \n",
    "    firstName text, \n",
    "    lastName text, \n",
    "    song text,\n",
    "    PRIMARY KEY ((userid, sessionid), iteminsession))\"\"\"\n",
    "try:\n",
    "        session.execute(query) \n",
    "except Exception as e:\n",
    "        print(e)"
   ]
  },
  {
   "cell_type": "markdown",
   "metadata": {
    "editable": true
   },
   "source": [
    "**2b. Read and Insert data from csv file to the Artist_song table**"
   ]
  },
  {
   "cell_type": "code",
   "execution_count": 64,
   "metadata": {
    "editable": true
   },
   "outputs": [],
   "source": [
    "# CSV file\n",
    "file = 'event_datafile_new.csv'\n",
    "\n",
    "with open(file, encoding = 'utf8') as f:\n",
    "    csvreader = csv.reader(f)\n",
    "    next(csvreader) # skip header\n",
    "    for line in csvreader:\n",
    "#INSERT statements \n",
    "        query = \"INSERT INTO Artist_song (userid,sessionid,iteminsession,artist,firstname,lastname,song)\"\n",
    "        query = query + \"VALUES (%s, %s, %s, %s, %s, %s, %s)\"\n",
    "        session.execute(query,(int(line[10]),int(line[8]),int(line[3]),line[0],line[1],line[4],line[9]))"
   ]
  },
  {
   "cell_type": "markdown",
   "metadata": {
    "editable": true
   },
   "source": [
    "**2c. Select and Display artist,songtitle and user name (first and last) with a given user Id** "
   ]
  },
  {
   "cell_type": "code",
   "execution_count": 70,
   "metadata": {
    "editable": true
   },
   "outputs": [
    {
     "name": "stdout",
     "output_type": "stream",
     "text": [
      "ARTIST: Down To The Bone FISRT NAME: Sylvie LAST NAME: Cruz SONG: Keep On Keepin' On\n",
      "ARTIST: Three Drives FISRT NAME: Sylvie LAST NAME: Cruz SONG: Greece 2000\n",
      "ARTIST: Sebastien Tellier FISRT NAME: Sylvie LAST NAME: Cruz SONG: Kilometer\n",
      "ARTIST: Lonnie Gordon FISRT NAME: Sylvie LAST NAME: Cruz SONG: Catch You Baby (Steve Pitron & Max Sanna Radio Edit)\n"
     ]
    }
   ],
   "source": [
    "#SELECT statement \n",
    "query = \"SELECT artist, firstname, lastname,song FROM artist_song WHERE userid = 10 AND sessionid =182\"\n",
    "try:\n",
    "        rows = session.execute(query)\n",
    "except Exception as e:\n",
    "        print(e)\n",
    "for row in rows:\n",
    "        print (\"ARTIST:\",row.artist, \"FISRT NAME:\",row.firstname, \"LAST NAME:\",row.lastname,\"SONG:\",row.song)"
   ]
  },
  {
   "cell_type": "markdown",
   "metadata": {
    "editable": true
   },
   "source": [
    "**3a. Create User_names table**"
   ]
  },
  {
   "cell_type": "code",
   "execution_count": 60,
   "metadata": {
    "editable": true
   },
   "outputs": [],
   "source": [
    "#CREATING TABLE FOR USER_NAMES\n",
    "query = \"CREATE TABLE IF NOT EXISTS User_names\"\n",
    "query = query + \"\"\"(\n",
    "    song text, \n",
    "    userId int,\n",
    "    firstName text,\n",
    "    lastName text, \n",
    "    PRIMARY KEY (song, userId))\"\"\"\n",
    "try:\n",
    "        session.execute(query) \n",
    "except Exception as e:\n",
    "        print(e)"
   ]
  },
  {
   "cell_type": "markdown",
   "metadata": {
    "editable": true
   },
   "source": [
    "**3b. Read and Insert data from csv file to the User_names table**"
   ]
  },
  {
   "cell_type": "code",
   "execution_count": 61,
   "metadata": {
    "editable": true
   },
   "outputs": [],
   "source": [
    "# CSV file\n",
    "file = 'event_datafile_new.csv'\n",
    "with open(file, encoding = 'utf8') as f:\n",
    "    csvreader = csv.reader(f)\n",
    "    next(csvreader) # skip header\n",
    "    for line in csvreader:\n",
    "#INSERT statements \n",
    "        query = \"INSERT INTO user_names (song,userid,firstname,lastname)\"\n",
    "        query = query + \"VALUES (%s, %s, %s, %s)\"\n",
    "        session.execute(query,(line[9],int(line[10]),line[1],line[4]))"
   ]
  },
  {
   "cell_type": "markdown",
   "metadata": {
    "editable": true
   },
   "source": [
    "**3c. Select and Display every user name (first and last) who listened to a specific song** "
   ]
  },
  {
   "cell_type": "code",
   "execution_count": 62,
   "metadata": {
    "editable": true
   },
   "outputs": [
    {
     "name": "stdout",
     "output_type": "stream",
     "text": [
      "FIRST NAME: Jacqueline LAST NAME: Lynch\n",
      "FIRST NAME: Tegan LAST NAME: Levine\n",
      "FIRST NAME: Sara LAST NAME: Johnson\n"
     ]
    }
   ],
   "source": [
    "#SELECT statement \n",
    "query = \"SELECT firstname, lastname FROM user_names WHERE song = 'All Hands Against His Own'\"\n",
    "try:\n",
    "    rows = session.execute(query)\n",
    "except Exception as e:\n",
    "    print(e)\n",
    "    \n",
    "for row in rows:\n",
    "    print (\"FIRST NAME:\",row.firstname, \"LAST NAME:\", row.lastname)"
   ]
  },
  {
   "cell_type": "markdown",
   "metadata": {
    "editable": true
   },
   "source": [
    "**Dropping tables**"
   ]
  },
  {
   "cell_type": "code",
   "execution_count": 26,
   "metadata": {
    "editable": true
   },
   "outputs": [],
   "source": [
    "#Dropping the tables \n",
    "query = \"drop table Music_app\"\n",
    "query = \"drop table Artist_song\"\n",
    "query = \"drop table User_names\"\n",
    "try:\n",
    "    rows = session.execute(query) \n",
    "except Exception as e:\n",
    "    print(e)"
   ]
  },
  {
   "cell_type": "markdown",
   "metadata": {
    "editable": true
   },
   "source": [
    "**Closing the session and cluster connection**"
   ]
  },
  {
   "cell_type": "code",
   "execution_count": 27,
   "metadata": {
    "editable": true
   },
   "outputs": [],
   "source": [
    "session.shutdown()\n",
    "cluster.shutdown()"
   ]
  }
 ],
 "metadata": {
  "kernelspec": {
   "display_name": "Python 3",
   "language": "python",
   "name": "python3"
  },
  "language_info": {
   "codemirror_mode": {
    "name": "ipython",
    "version": 3
   },
   "file_extension": ".py",
   "mimetype": "text/x-python",
   "name": "python",
   "nbconvert_exporter": "python",
   "pygments_lexer": "ipython3",
   "version": "3.6.3"
  }
 },
 "nbformat": 4,
 "nbformat_minor": 4
}
